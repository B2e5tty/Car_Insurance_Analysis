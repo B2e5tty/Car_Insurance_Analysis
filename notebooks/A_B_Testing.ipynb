{
 "cells": [
  {
   "cell_type": "markdown",
   "metadata": {},
   "source": [
    "# A/B Hypothesis Testing\n",
    "\n",
    "Accept or reject the following Null Hypotheses: \n",
    "1. There are no risk differences across provinces \n",
    "2. There are no risk differences between zip codes \n",
    "3. There are no significant margin (profit) difference between zip codes \n",
    "4. There are not significant risk difference between Women and Men\n"
   ]
  },
  {
   "cell_type": "code",
   "execution_count": 1,
   "metadata": {},
   "outputs": [],
   "source": [
    "import pandas as pd\n",
    "import matplotlib.pyplot as plt\n",
    "import seaborn as sns\n",
    "import numpy as np\n",
    "\n",
    "import os\n",
    "import sys\n",
    "sys.path.append(os.path.abspath(os.path.join('..','src')))\n",
    "from eda import EDA\n",
    "\n",
    "from scipy.stats import chi2_contingency, ttest_ind, fisher_exact\n",
    "\n",
    "import warnings\n",
    "warnings.filterwarnings('ignore')"
   ]
  },
  {
   "cell_type": "code",
   "execution_count": 2,
   "metadata": {},
   "outputs": [
    {
     "name": "stdout",
     "output_type": "stream",
     "text": [
      "<class 'pandas.core.frame.DataFrame'>\n",
      "RangeIndex: 990010 entries, 0 to 990009\n",
      "Data columns (total 16 columns):\n",
      " #   Column                    Non-Null Count   Dtype         \n",
      "---  ------                    --------------   -----         \n",
      " 0   Gender                    990010 non-null  category      \n",
      " 1   Province                  990010 non-null  category      \n",
      " 2   PostalCode                990010 non-null  category      \n",
      " 3   TransactionMonth          990010 non-null  datetime64[ns]\n",
      " 4   VehicleType               990010 non-null  category      \n",
      " 5   RegistrationYear          990010 non-null  category      \n",
      " 6   SumInsured                990010 non-null  float64       \n",
      " 7   TermFrequency             990010 non-null  category      \n",
      " 8   TotalPremium              990010 non-null  float64       \n",
      " 9   Product                   990010 non-null  category      \n",
      " 10  CoverType                 990010 non-null  category      \n",
      " 11  TotalClaims               990010 non-null  float64       \n",
      " 12  StatutoryRiskType         990010 non-null  category      \n",
      " 13  PolicyID                  990010 non-null  object        \n",
      " 14  Section                   990010 non-null  category      \n",
      " 15  CalculatedPremiumPerTerm  990010 non-null  float64       \n",
      "dtypes: category(10), datetime64[ns](1), float64(4), object(1)\n",
      "memory usage: 55.7+ MB\n",
      "None\n"
     ]
    }
   ],
   "source": [
    "# get the CSV file\n",
    "df_insurance = pd.read_csv(\"df_insurance.csv\")\n",
    "df_insurance.head()\n",
    "\n",
    "# instantiate the class\n",
    "eda = EDA(df_insurance)\n",
    "\n",
    "# change the datatype to appropriate type\n",
    "eda.change_dtype()\n"
   ]
  },
  {
   "cell_type": "markdown",
   "metadata": {},
   "source": [
    "> 1. There are no risk differences across provinces "
   ]
  },
  {
   "cell_type": "code",
   "execution_count": 3,
   "metadata": {},
   "outputs": [
    {
     "name": "stdout",
     "output_type": "stream",
     "text": [
      "Group A (Low Risk Provinces):\n",
      "               Gender    Province PostalCode TransactionMonth  \\\n",
      "529610  Not specified  Mpumalanga       1064       2015-06-01   \n",
      "941654           Male  North West       2530       2014-03-01   \n",
      "674033  Not specified  North West        407       2015-04-01   \n",
      "\n",
      "              VehicleType RegistrationYear  SumInsured TermFrequency  \\\n",
      "529610  Passenger Vehicle             2010     7500.00       Monthly   \n",
      "941654  Passenger Vehicle             2013     7000.00       Monthly   \n",
      "674033  Passenger Vehicle             2012        0.01       Monthly   \n",
      "\n",
      "        TotalPremium                             Product            CoverType  \\\n",
      "529610     78.947368  Mobility Commercial Cover: Monthly  Basic Excess Waiver   \n",
      "941654      0.000000  Mobility Commercial Cover: Monthly     Income Protector   \n",
      "674033     21.929825  Mobility Commercial Cover: Monthly           Windscreen   \n",
      "\n",
      "        TotalClaims StatutoryRiskType PolicyID                   Section  \\\n",
      "529610          0.0     IFRS Constant    20525  Optional Extended Covers   \n",
      "941654          0.0     IFRS Constant       35  Optional Extended Covers   \n",
      "674033          0.0     IFRS Constant    16202       Motor Comprehensive   \n",
      "\n",
      "        CalculatedPremiumPerTerm  \n",
      "529610                      90.0  \n",
      "941654                      85.0  \n",
      "674033                      25.0  \n",
      "Group B (High Risk Provinces):\n",
      "               Gender       Province PostalCode TransactionMonth  \\\n",
      "954322           Male  KwaZulu-Natal       4359       2014-11-01   \n",
      "959594           Male   Western Cape       7766       2015-05-01   \n",
      "549879  Not specified        Gauteng        122       2015-03-01   \n",
      "\n",
      "              VehicleType RegistrationYear  SumInsured TermFrequency  \\\n",
      "954322  Passenger Vehicle             2011     50000.0       Monthly   \n",
      "959594  Passenger Vehicle             2008      7500.0       Monthly   \n",
      "549879  Medium Commercial             2013      7500.0       Monthly   \n",
      "\n",
      "        TotalPremium                             Product            CoverType  \\\n",
      "954322    -43.859649  Mobility Commercial Cover: Monthly     Accidental Death   \n",
      "959594      0.000000     Mobility Metered Taxis: Monthly  Basic Excess Waiver   \n",
      "549879     37.351443  Mobility Commercial Cover: Monthly  Basic Excess Waiver   \n",
      "\n",
      "        TotalClaims StatutoryRiskType PolicyID                   Section  \\\n",
      "954322          0.0     IFRS Constant      209  Optional Extended Covers   \n",
      "959594          0.0     IFRS Constant    10927  Optional Extended Covers   \n",
      "549879          0.0     IFRS Constant    17473  Optional Extended Covers   \n",
      "\n",
      "        CalculatedPremiumPerTerm  \n",
      "954322                      50.0  \n",
      "959594                      90.0  \n",
      "549879                     110.0  \n"
     ]
    }
   ],
   "source": [
    "'''\n",
    "Features: Province\n",
    "Risk KPI Features: TotalClaims or SumInsured\n",
    "\n",
    "Risk Score = TotalClaims / Number of PolicyID\n",
    "\n",
    "'''\n",
    "\n",
    "# Using risk metric group A and group B\n",
    "group_a, group_b = eda.group_AB_risk('Province')\n",
    "\n",
    "print(\"Group A (Low Risk Provinces):\")\n",
    "print(group_a.head(3))\n",
    "\n",
    "print(\"Group B (High Risk Provinces):\")\n",
    "print(group_b.head(3))\n"
   ]
  },
  {
   "cell_type": "code",
   "execution_count": 4,
   "metadata": {},
   "outputs": [
    {
     "name": "stdout",
     "output_type": "stream",
     "text": [
      "Gender: P Values: 0.0\n",
      "Gender: Cramér's V(Effective Size): 0.05612680799425666\n",
      "\n",
      "PostalCode: P Values: 0.0\n",
      "PostalCode: Cramér's V(Effective Size): 0.9991520325190562\n",
      "\n",
      "VehicleType: P Values: 0.0\n",
      "VehicleType: Cramér's V(Effective Size): 0.09180161597024714\n",
      "\n",
      "RegistrationYear: P Values: 0.0\n",
      "RegistrationYear: Cramér's V(Effective Size): 0.19816071267607627\n",
      "\n",
      "TermFrequency: P Values: 0.15521777830758787\n",
      "TermFrequency: Cramér's V(Effective Size): 0.0020721804182716234\n",
      "\n",
      "Product: P Values: 0.0\n",
      "Product: Cramér's V(Effective Size): 0.1704846409862012\n",
      "\n",
      "CoverType: P Values: 0.0\n",
      "CoverType: Cramér's V(Effective Size): 0.08256464850288567\n",
      "\n",
      "Skipping StatutoryRiskType due to insufficient data.\n",
      "StatutoryRiskType: P Values: None\n",
      "StatutoryRiskType: Cramér's V(Effective Size): None\n",
      "\n",
      "Section: P Values: 9.613888848479854e-131\n",
      "Section: Cramér's V(Effective Size): 0.03601347709687241\n",
      "\n"
     ]
    }
   ],
   "source": [
    "# for categorical\n",
    "columns = ['Gender','PostalCode','VehicleType','RegistrationYear','TermFrequency','Product','CoverType','StatutoryRiskType','Section']\n",
    "\n",
    "for col in columns:\n",
    "    p_value, effect_size = eda.chi2_test('Province', col, group_a, group_b)\n",
    "    \n",
    "    print(f\"{col}: P Values: {p_value}\")\n",
    "    print(f\"{col}: Cramér's V(Effective Size): {effect_size}\\n\")\n"
   ]
  },
  {
   "cell_type": "markdown",
   "metadata": {},
   "source": [
    "- P-value is less than 0.05 for Gender,VehicleType, CoverType and Section, therefore this feautres reject the null hypothesis but there Cramér's V values are less than 0.1 indicating negligible association, which indicates there impact on the risk score across provinces is relatively small.\n",
    "\n",
    "- P-value is less than 0.05 for PostalCode, RegistrationYear and Product with a weak association value of Cramér's V hence there impact is small on the risk score across provinces.\n",
    "\n",
    "- The P-value value of TermFrequency is greater than 0.05 therefore fail to reject the null hypothesis .\n",
    "\n",
    "- StatutoryRiskType is skipped because it only has one value."
   ]
  },
  {
   "cell_type": "code",
   "execution_count": 5,
   "metadata": {},
   "outputs": [
    {
     "name": "stdout",
     "output_type": "stream",
     "text": [
      "SumInsured: P Values: 0.16502999832588486\n",
      "SumInsured: Cohen's d(Effective Size): -0.003278360325563921\n",
      "\n",
      "TotalPremium: P Values: 1.3364977193935756e-96\n",
      "TotalPremium: Cohen's d(Effective Size): 0.049254025481234726\n",
      "\n",
      "TotalClaims: P Values: 1.1661539671082533e-08\n",
      "TotalClaims: Cohen's d(Effective Size): -0.01347056779857492\n",
      "\n",
      "CalculatedPremiumPerTerm: P Values: 0.0\n",
      "CalculatedPremiumPerTerm: Cohen's d(Effective Size): 0.11354677664749972\n",
      "\n"
     ]
    }
   ],
   "source": [
    "# for numerical\n",
    "columns = ['SumInsured','TotalPremium','TotalClaims','CalculatedPremiumPerTerm']\n",
    "for col in columns:\n",
    "    p_value, effect_size = eda.t_test_numerical('Province',col,group_a,group_b)\n",
    "\n",
    "    print(f\"{col}: P Values: {p_value}\")\n",
    "    print(f\"{col}: Cohen's d(Effective Size): {effect_size}\\n\")"
   ]
  },
  {
   "cell_type": "markdown",
   "metadata": {},
   "source": [
    "- TotalPremium, TotalClaims, and CalculatedPremiumPerTerm show p-value of less than 0.05 thus null hypothesis is rejected  however the effect sizes suggest that the practical difference between these groups is relatively small in all cases, except for CalculatedPremiumPerTerm, where the effect is somewhat more pronounced.\n",
    "\n",
    "- SumInsured has a p-vlaue great than 0.05 as a result the null hypothesis isn't rejected."
   ]
  },
  {
   "cell_type": "markdown",
   "metadata": {},
   "source": [
    "Final Conclusion:\n",
    "\n",
    "After performing chi-squared and t-test tests for various features,majority of features show significant p-values (p < 0.05) concluding that there are significant risk differences across provinces."
   ]
  },
  {
   "cell_type": "markdown",
   "metadata": {},
   "source": [
    "> 2. There are no risk differences between zip codes"
   ]
  },
  {
   "cell_type": "code",
   "execution_count": 6,
   "metadata": {},
   "outputs": [
    {
     "name": "stdout",
     "output_type": "stream",
     "text": [
      "Group A (Low Risk PostalCode):\n",
      "               Gender       Province PostalCode TransactionMonth  \\\n",
      "405513  Not specified   Western Cape       7612       2015-04-01   \n",
      "418966  Not specified  KwaZulu-Natal       3276       2015-04-01   \n",
      "730738  Not specified  KwaZulu-Natal       3370       2015-06-01   \n",
      "\n",
      "              VehicleType RegistrationYear  SumInsured TermFrequency  \\\n",
      "405513  Passenger Vehicle             2009     7500.00       Monthly   \n",
      "418966  Passenger Vehicle             2015        0.01       Monthly   \n",
      "730738  Passenger Vehicle             2014        0.01       Monthly   \n",
      "\n",
      "        TotalPremium                             Product  \\\n",
      "405513      5.240263  Mobility Commercial Cover: Monthly   \n",
      "418966     21.929825  Mobility Commercial Cover: Monthly   \n",
      "730738     21.929825  Mobility Commercial Cover: Monthly   \n",
      "\n",
      "                                      CoverType  TotalClaims  \\\n",
      "405513  Cleaning and Removal of Accident Debris          0.0   \n",
      "418966                               Windscreen          0.0   \n",
      "730738                               Windscreen          0.0   \n",
      "\n",
      "       StatutoryRiskType PolicyID              Section  \\\n",
      "405513     IFRS Constant    12089  Motor Comprehensive   \n",
      "418966     IFRS Constant    20901  Motor Comprehensive   \n",
      "730738     IFRS Constant     5661  Motor Comprehensive   \n",
      "\n",
      "        CalculatedPremiumPerTerm  \n",
      "405513                    5.9739  \n",
      "418966                   25.0000  \n",
      "730738                   25.0000  \n",
      "Group B (High Risk PostalCode):\n",
      "               Gender       Province PostalCode TransactionMonth  \\\n",
      "24542   Not specified  KwaZulu-Natal       3610       2015-01-01   \n",
      "912439  Not specified        Gauteng       2001       2014-07-01   \n",
      "644706  Not specified        Gauteng       2000       2015-01-01   \n",
      "\n",
      "              VehicleType RegistrationYear  SumInsured TermFrequency  \\\n",
      "24542   Passenger Vehicle             2014    100000.0       Monthly   \n",
      "912439  Passenger Vehicle             2009      7500.0       Monthly   \n",
      "644706  Passenger Vehicle             2007      7500.0       Monthly   \n",
      "\n",
      "        TotalPremium                             Product  \\\n",
      "24542      43.859649  Mobility Commercial Cover: Monthly   \n",
      "912439      4.672982  Mobility Commercial Cover: Monthly   \n",
      "644706      4.672982  Mobility Commercial Cover: Monthly   \n",
      "\n",
      "                                      CoverType  TotalClaims  \\\n",
      "24542                          Accidental Death          0.0   \n",
      "912439  Cleaning and Removal of Accident Debris          0.0   \n",
      "644706                        Emergency Charges          0.0   \n",
      "\n",
      "       StatutoryRiskType PolicyID                   Section  \\\n",
      "24542      IFRS Constant    10950  Optional Extended Covers   \n",
      "912439     IFRS Constant     2111       Motor Comprehensive   \n",
      "644706     IFRS Constant     8539       Motor Comprehensive   \n",
      "\n",
      "        CalculatedPremiumPerTerm  \n",
      "24542                    50.0000  \n",
      "912439                    5.3272  \n",
      "644706                    5.3272  \n"
     ]
    }
   ],
   "source": [
    "'''\n",
    "Features: Province\n",
    "Risk KPI Features: TotalClaims or SumInsured\n",
    "\n",
    "Risk Score = TotalClaims / Number of PolicyID\n",
    "\n",
    "'''\n",
    "\n",
    "# Using risk metric group A and group B\n",
    "group_a, group_b = eda.group_AB_risk('PostalCode')\n",
    "\n",
    "print(\"Group A (Low Risk PostalCode):\")\n",
    "print(group_a.head(3))\n",
    "\n",
    "print(\"Group B (High Risk PostalCode):\")\n",
    "print(group_b.head(3))\n"
   ]
  },
  {
   "cell_type": "code",
   "execution_count": 7,
   "metadata": {},
   "outputs": [
    {
     "name": "stdout",
     "output_type": "stream",
     "text": [
      "Gender: P Values: 9.934195139949184e-35\n",
      "Gender: Cramér's V(Effective Size): 0.0285266644326923\n",
      "\n",
      "Province: P Values: 0.0\n",
      "Province: Cramér's V(Effective Size): 0.2843520135564286\n",
      "\n",
      "VehicleType: P Values: 3.4782141827202377e-37\n",
      "VehicleType: Cramér's V(Effective Size): 0.030319109638687766\n",
      "\n",
      "RegistrationYear: P Values: 0.0\n",
      "RegistrationYear: Cramér's V(Effective Size): 0.207080491542473\n",
      "\n",
      "TermFrequency: P Values: 2.3697500355570458e-24\n",
      "TermFrequency: Cramér's V(Effective Size): 0.02321303557969367\n",
      "\n",
      "Product: P Values: 7.289020891813446e-209\n",
      "Product: Cramér's V(Effective Size): 0.07081387651523657\n",
      "\n",
      "CoverType: P Values: 2.04788369872631e-80\n",
      "CoverType: Cramér's V(Effective Size): 0.04791305150626715\n",
      "\n",
      "Skipping StatutoryRiskType due to insufficient data.\n",
      "StatutoryRiskType: P Values: None\n",
      "StatutoryRiskType: Cramér's V(Effective Size): None\n",
      "\n",
      "Section: P Values: 5.8882814368123365e-77\n",
      "Section: Cramér's V(Effective Size): 0.0433409896425719\n",
      "\n"
     ]
    }
   ],
   "source": [
    "# for categorical\n",
    "columns = ['Gender','Province','VehicleType','RegistrationYear','TermFrequency','Product','CoverType','StatutoryRiskType','Section']\n",
    "\n",
    "for col in columns:\n",
    "    p_value, effect_size = eda.chi2_test('PostalCode', col, group_a, group_b)\n",
    "    \n",
    "    print(f\"{col}: P Values: {p_value}\")\n",
    "    print(f\"{col}: Cramér's V(Effective Size): {effect_size}\\n\")\n"
   ]
  },
  {
   "cell_type": "markdown",
   "metadata": {},
   "source": [
    "- P-value is less than 0.05 for Gender,VehicleType, CoverType, Section, TermFrequency and Product therefore this feautres reject the null hypothesis but there Cramér's V values are less than 0.1 indicating negligible association, which indicates there impact on the risk score across provinces is relatively small.\n",
    "\n",
    "- P-value is less than 0.05 for RegistrationYear and Province with a weak association value of Cramér's V hence there impact is small on the risk score across provinces.\n",
    "\n",
    "- StatutoryRiskType is skipped because it only has one value."
   ]
  },
  {
   "cell_type": "code",
   "execution_count": 8,
   "metadata": {},
   "outputs": [
    {
     "name": "stdout",
     "output_type": "stream",
     "text": [
      "SumInsured: P Values: 0.863033132741762\n",
      "SumInsured: Cohen's d(Effective Size): 0.000585343733358674\n",
      "\n",
      "TotalPremium: P Values: 0.014769392682000147\n",
      "TotalPremium: Cohen's d(Effective Size): -0.008272127991260108\n",
      "\n",
      "TotalClaims: P Values: 7.782869676022052e-19\n",
      "TotalClaims: Cohen's d(Effective Size): -0.030073171042036696\n",
      "\n",
      "CalculatedPremiumPerTerm: P Values: 0.002655686711457238\n",
      "CalculatedPremiumPerTerm: Cohen's d(Effective Size): -0.010196076193768343\n",
      "\n"
     ]
    }
   ],
   "source": [
    "# for numerical\n",
    "columns = ['SumInsured','TotalPremium','TotalClaims','CalculatedPremiumPerTerm']\n",
    "for col in columns:\n",
    "    p_value, effect_size = eda.t_test_numerical('PostalCode',col,group_a,group_b)\n",
    "\n",
    "    print(f\"{col}: P Values: {p_value}\")\n",
    "    print(f\"{col}: Cohen's d(Effective Size): {effect_size}\\n\")"
   ]
  },
  {
   "cell_type": "markdown",
   "metadata": {},
   "source": [
    "- TotalPremium, TotalClaims, and CalculatedPremiumPerTerm show p-value of less than 0.05 thus null hypothesis is rejected  however the effect sizes suggest that the practical difference between these groups is relatively small in all cases,indicating there impact is very small.\n",
    "\n",
    "- SumInsured has a p-vlaue great than 0.05 as a result the null hypothesis isn't rejected."
   ]
  },
  {
   "cell_type": "markdown",
   "metadata": {},
   "source": [
    "> 3. There are no significant margin (profit) difference between zip codes "
   ]
  },
  {
   "cell_type": "code",
   "execution_count": 9,
   "metadata": {},
   "outputs": [
    {
     "name": "stdout",
     "output_type": "stream",
     "text": [
      "Group A (Low Profit PostalCode):\n",
      "               Gender      Province PostalCode TransactionMonth  \\\n",
      "854833  Not specified       Gauteng       2037       2015-05-01   \n",
      "225551  Not specified       Gauteng        122       2015-02-01   \n",
      "413482  Not specified  Western Cape       7100       2015-08-01   \n",
      "\n",
      "              VehicleType RegistrationYear  SumInsured TermFrequency  \\\n",
      "854833  Passenger Vehicle             2009    125000.0       Monthly   \n",
      "225551  Passenger Vehicle             2009      3500.0       Monthly   \n",
      "413482  Passenger Vehicle             2008   5000000.0       Monthly   \n",
      "\n",
      "        TotalPremium                             Product  \\\n",
      "854833         0.000  Mobility Commercial Cover: Monthly   \n",
      "225551         0.000  Mobility Commercial Cover: Monthly   \n",
      "413482         1.645  Mobility Commercial Cover: Monthly   \n",
      "\n",
      "                        CoverType  TotalClaims StatutoryRiskType PolicyID  \\\n",
      "854833                 Own Damage          0.0     IFRS Constant     3700   \n",
      "225551  Signage and Vehicle Wraps          0.0     IFRS Constant      907   \n",
      "413482        Passenger Liability          0.0     IFRS Constant      388   \n",
      "\n",
      "                    Section  CalculatedPremiumPerTerm  margin  \n",
      "854833  Motor Comprehensive                  401.5858   0.000  \n",
      "225551  Motor Comprehensive                    1.9350   0.000  \n",
      "413482  Motor Comprehensive                    1.8753   1.645  \n",
      "Group B (High Profit PostalCode):\n",
      "               Gender    Province PostalCode TransactionMonth  \\\n",
      "516888           Male     Gauteng       1431       2015-03-01   \n",
      "369033  Not specified  North West        422       2015-03-01   \n",
      "977286           Male     Gauteng       2040       2014-07-01   \n",
      "\n",
      "              VehicleType RegistrationYear  SumInsured TermFrequency  \\\n",
      "516888  Medium Commercial             2011      3500.0       Monthly   \n",
      "369033  Passenger Vehicle             2010      7500.0       Monthly   \n",
      "977286  Passenger Vehicle             2013      7500.0       Monthly   \n",
      "\n",
      "        TotalPremium                             Product  \\\n",
      "516888      2.513860  Mobility Commercial Cover: Monthly   \n",
      "369033      2.900526  Mobility Commercial Cover: Monthly   \n",
      "977286      6.582193  Mobility Commercial Cover: Monthly   \n",
      "\n",
      "                        CoverType  TotalClaims StatutoryRiskType PolicyID  \\\n",
      "516888  Signage and Vehicle Wraps          0.0     IFRS Constant    10746   \n",
      "369033          Emergency Charges          0.0     IFRS Constant     6304   \n",
      "977286          Emergency Charges          0.0     IFRS Constant      170   \n",
      "\n",
      "                    Section  CalculatedPremiumPerTerm    margin  \n",
      "516888  Motor Comprehensive                    2.8658  2.513860  \n",
      "369033  Motor Comprehensive                    3.3066  2.900526  \n",
      "977286  Motor Comprehensive                    7.5037  6.582193  \n"
     ]
    }
   ],
   "source": [
    "'''\n",
    "Profit margin = Total Premium - Total Claims\n",
    "\n",
    "'''\n",
    "\n",
    "# Using risk metric group A and group B\n",
    "group_a, group_b = eda.group_AB_margin('PostalCode')\n",
    "\n",
    "print(\"Group A (Low Profit PostalCode):\")\n",
    "print(group_a.head(3))\n",
    "\n",
    "print(\"Group B (High Profit PostalCode):\")\n",
    "print(group_b.head(3))\n"
   ]
  },
  {
   "cell_type": "code",
   "execution_count": 10,
   "metadata": {},
   "outputs": [
    {
     "name": "stdout",
     "output_type": "stream",
     "text": [
      "Gender: P Values: 8.610309064385105e-05\n",
      "Gender: Cramér's V(Effective Size): 0.004348507482237027\n",
      "\n",
      "Province: P Values: 0.0\n",
      "Province: Cramér's V(Effective Size): 0.09358715217465577\n",
      "\n",
      "VehicleType: P Values: 1.7120650786839722e-19\n",
      "VehicleType: Cramér's V(Effective Size): 0.009753073622993508\n",
      "\n",
      "RegistrationYear: P Values: 0.0\n",
      "RegistrationYear: Cramér's V(Effective Size): 0.05893267753167059\n",
      "\n",
      "TermFrequency: P Values: 0.0\n",
      "TermFrequency: Cramér's V(Effective Size): 0.05153511742323045\n",
      "\n",
      "Product: P Values: 0.0\n",
      "Product: Cramér's V(Effective Size): 0.053791332413476944\n",
      "\n",
      "CoverType: P Values: 0.0\n",
      "CoverType: Cramér's V(Effective Size): 0.05561118391735652\n",
      "\n",
      "Skipping StatutoryRiskType due to insufficient data.\n",
      "StatutoryRiskType: P Values: None\n",
      "StatutoryRiskType: Cramér's V(Effective Size): None\n",
      "\n",
      "Section: P Values: 0.0\n",
      "Section: Cramér's V(Effective Size): 0.05468437226202706\n",
      "\n"
     ]
    }
   ],
   "source": [
    "# for categorical\n",
    "columns = ['Gender','Province','VehicleType','RegistrationYear','TermFrequency','Product','CoverType','StatutoryRiskType','Section']\n",
    "\n",
    "for col in columns:\n",
    "    p_value, effect_size = eda.chi2_test('PostalCode', col, group_a, group_b)\n",
    "    \n",
    "    print(f\"{col}: P Values: {p_value}\")\n",
    "    print(f\"{col}: Cramér's V(Effective Size): {effect_size}\\n\")\n"
   ]
  },
  {
   "cell_type": "markdown",
   "metadata": {},
   "source": [
    "- All of categorical features rejected the null values but showing a small impact on the profit."
   ]
  },
  {
   "cell_type": "code",
   "execution_count": 11,
   "metadata": {},
   "outputs": [
    {
     "name": "stdout",
     "output_type": "stream",
     "text": [
      "SumInsured: P Values: 0.9096830627819994\n",
      "SumInsured: Cohen's d(Effective Size): -0.00016147084710887592\n",
      "\n",
      "TotalPremium: P Values: 0.07981789915792203\n",
      "TotalPremium: Cohen's d(Effective Size): -0.0024934752671677343\n",
      "\n",
      "TotalClaims: P Values: 0.9806280201733657\n",
      "TotalClaims: Cohen's d(Effective Size): -3.456296310120932e-05\n",
      "\n",
      "CalculatedPremiumPerTerm: P Values: 0.9895205637473221\n",
      "CalculatedPremiumPerTerm: Cohen's d(Effective Size): -1.8695827481145636e-05\n",
      "\n"
     ]
    }
   ],
   "source": [
    "# for numerical\n",
    "columns = ['SumInsured','TotalPremium','TotalClaims','CalculatedPremiumPerTerm']\n",
    "for col in columns:\n",
    "    p_value, effect_size = eda.t_test_numerical('PostalCode',col,group_a,group_b)\n",
    "\n",
    "    print(f\"{col}: P Values: {p_value}\")\n",
    "    print(f\"{col}: Cohen's d(Effective Size): {effect_size}\\n\")"
   ]
  },
  {
   "cell_type": "markdown",
   "metadata": {},
   "source": [
    "- All of the numerical features have a p-value greater than 0.05 thus doesn't reject the null hypothesis."
   ]
  },
  {
   "cell_type": "markdown",
   "metadata": {},
   "source": [
    "> 4. There are not significant risk difference between Women and Men"
   ]
  },
  {
   "cell_type": "code",
   "execution_count": 15,
   "metadata": {},
   "outputs": [
    {
     "name": "stdout",
     "output_type": "stream",
     "text": [
      "Group A (Low Profit Gender):\n",
      "       Gender      Province PostalCode TransactionMonth        VehicleType  \\\n",
      "921275   Male       Gauteng        183       2014-05-01  Passenger Vehicle   \n",
      "886470   Male       Gauteng       1496       2014-09-01  Passenger Vehicle   \n",
      "850277   Male  Western Cape       7784       2014-06-01  Passenger Vehicle   \n",
      "\n",
      "       RegistrationYear  SumInsured TermFrequency  TotalPremium  \\\n",
      "921275             2011      7500.0       Monthly           0.0   \n",
      "886470             2012   5000000.0       Monthly           0.0   \n",
      "850277             2014      7500.0       Monthly           0.0   \n",
      "\n",
      "                                   Product  \\\n",
      "921275  Mobility Commercial Cover: Monthly   \n",
      "886470  Mobility Commercial Cover: Monthly   \n",
      "850277  Mobility Commercial Cover: Monthly   \n",
      "\n",
      "                                      CoverType  TotalClaims  \\\n",
      "921275                        Emergency Charges          0.0   \n",
      "886470                      Passenger Liability          0.0   \n",
      "850277  Cleaning and Removal of Accident Debris          0.0   \n",
      "\n",
      "       StatutoryRiskType PolicyID              Section  \\\n",
      "921275     IFRS Constant      314  Motor Comprehensive   \n",
      "886470     IFRS Constant      100  Motor Comprehensive   \n",
      "850277     IFRS Constant     2494  Motor Comprehensive   \n",
      "\n",
      "        CalculatedPremiumPerTerm  margin  \n",
      "921275                    6.9713     0.0  \n",
      "886470                    2.3991     0.0  \n",
      "850277                    7.0689     0.0  \n",
      "Group B (High Profit Gender):\n",
      "       Gender      Province PostalCode TransactionMonth        VehicleType  \\\n",
      "977286   Male       Gauteng       2040       2014-07-01  Passenger Vehicle   \n",
      "954289   Male  Western Cape       7493       2015-03-01  Passenger Vehicle   \n",
      "969090   Male    North West       2744       2014-03-01  Medium Commercial   \n",
      "\n",
      "       RegistrationYear  SumInsured TermFrequency  TotalPremium  \\\n",
      "977286             2013      7500.0       Monthly      6.582193   \n",
      "954289             2013      7500.0       Monthly      6.944737   \n",
      "969090             2012    500000.0       Monthly    204.406140   \n",
      "\n",
      "                                   Product          CoverType  TotalClaims  \\\n",
      "977286  Mobility Commercial Cover: Monthly  Emergency Charges          0.0   \n",
      "954289  Mobility Commercial Cover: Monthly  Emergency Charges          0.0   \n",
      "969090  Mobility Commercial Cover: Monthly        Third Party          0.0   \n",
      "\n",
      "       StatutoryRiskType PolicyID              Section  \\\n",
      "977286     IFRS Constant      170  Motor Comprehensive   \n",
      "954289     IFRS Constant      389  Motor Comprehensive   \n",
      "969090     IFRS Constant      146  Motor Comprehensive   \n",
      "\n",
      "        CalculatedPremiumPerTerm      margin  \n",
      "977286                    7.5037    6.582193  \n",
      "954289                    7.9170    6.944737  \n",
      "969090                  233.0230  204.406140  \n"
     ]
    }
   ],
   "source": [
    "'''\n",
    "Profit margin = Total Premium - Total Claims\n",
    "\n",
    "'''\n",
    "\n",
    "# Using risk metric group A and group B\n",
    "group_a, group_b = eda.group_AB_margin('Gender')\n",
    "\n",
    "print(\"Group A (Low Profit Gender):\")\n",
    "group_a = group_a[group_a['Gender'].isin(['Male','Female'])]           # remove not speicifed\n",
    "print(group_a.head(3))\n",
    "\n",
    "print(\"Group B (High Profit Gender):\")\n",
    "group_b = group_b[group_b['Gender'].isin(['Male','Female'])]           # remove not speicifed\n",
    "print(group_b.head(3))\n"
   ]
  },
  {
   "cell_type": "code",
   "execution_count": 18,
   "metadata": {},
   "outputs": [
    {
     "name": "stdout",
     "output_type": "stream",
     "text": [
      "Province: P Values: 2.951569660071686e-220\n",
      "Province: Cramér's V(Effective Size): 0.14446745275993253\n",
      "\n",
      "PostalCode: P Values: 0.0\n",
      "PostalCode: Cramér's V(Effective Size): 1.0\n",
      "\n",
      "VehicleType: P Values: 0.03383511710834468\n",
      "VehicleType: Cramér's V(Effective Size): 0.011688561188416007\n",
      "\n",
      "RegistrationYear: P Values: 8.395499329509113e-254\n",
      "RegistrationYear: Cramér's V(Effective Size): 0.1583426665481803\n",
      "\n",
      "TermFrequency: P Values: 1.1928278363546642e-269\n",
      "TermFrequency: Cramér's V(Effective Size): 0.15757675604240834\n",
      "\n",
      "Product: P Values: 7.529958625180555e-301\n",
      "Product: Cramér's V(Effective Size): 0.1669778218978567\n",
      "\n",
      "CoverType: P Values: 4.056001029689304e-295\n",
      "CoverType: Cramér's V(Effective Size): 0.1698878933127173\n",
      "\n",
      "Skipping StatutoryRiskType due to insufficient data.\n",
      "StatutoryRiskType: P Values: None\n",
      "StatutoryRiskType: Cramér's V(Effective Size): None\n",
      "\n",
      "Section: P Values: 3.3612185841037533e-305\n",
      "Section: Cramér's V(Effective Size): 0.16859099447818746\n",
      "\n"
     ]
    }
   ],
   "source": [
    "# for categorical\n",
    "columns = ['Province','PostalCode','VehicleType','RegistrationYear','TermFrequency','Product','CoverType','StatutoryRiskType','Section']\n",
    "\n",
    "for col in columns:\n",
    "    p_value, effect_size = eda.chi2_test('PostalCode', col, group_a, group_b)\n",
    "    \n",
    "    print(f\"{col}: P Values: {p_value}\")\n",
    "    print(f\"{col}: Cramér's V(Effective Size): {effect_size}\\n\")\n"
   ]
  },
  {
   "cell_type": "markdown",
   "metadata": {},
   "source": [
    "- Almost all of the categorical features reject the null hypothesis showcasing a small impact on profit.\n",
    "- Conversely PostalCode has a p-value greater than 0.05 and effective size value of 1, consequently PostalCode has a statistically significant association with Gender(which is highly unlikely)"
   ]
  },
  {
   "cell_type": "code",
   "execution_count": 19,
   "metadata": {},
   "outputs": [
    {
     "name": "stdout",
     "output_type": "stream",
     "text": [
      "SumInsured: P Values: 0.8181206665981109\n",
      "SumInsured: Cohen's d(Effective Size): 0.0004983295977082155\n",
      "\n",
      "TotalPremium: P Values: 0.970611822586027\n",
      "TotalPremium: Cohen's d(Effective Size): -7.983436736958942e-05\n",
      "\n",
      "TotalClaims: P Values: 0.9455079920754902\n",
      "TotalClaims: Cohen's d(Effective Size): 0.00014811186392176554\n",
      "\n",
      "CalculatedPremiumPerTerm: P Values: 0.23579173343396534\n",
      "CalculatedPremiumPerTerm: Cohen's d(Effective Size): 0.002569134467166921\n",
      "\n"
     ]
    }
   ],
   "source": [
    "# for numerical\n",
    "columns = ['SumInsured','TotalPremium','TotalClaims','CalculatedPremiumPerTerm']\n",
    "for col in columns:\n",
    "    p_value, effect_size = eda.t_test_numerical('PostalCode',col,group_a,group_b)\n",
    "\n",
    "    print(f\"{col}: P Values: {p_value}\")\n",
    "    print(f\"{col}: Cohen's d(Effective Size): {effect_size}\\n\")"
   ]
  },
  {
   "cell_type": "markdown",
   "metadata": {},
   "source": [
    "- All of the numerical features have a p-value greater than 0.05 thus doesn't reject the null hypothesis."
   ]
  }
 ],
 "metadata": {
  "kernelspec": {
   "display_name": "base",
   "language": "python",
   "name": "python3"
  },
  "language_info": {
   "codemirror_mode": {
    "name": "ipython",
    "version": 3
   },
   "file_extension": ".py",
   "mimetype": "text/x-python",
   "name": "python",
   "nbconvert_exporter": "python",
   "pygments_lexer": "ipython3",
   "version": "3.11.5"
  }
 },
 "nbformat": 4,
 "nbformat_minor": 2
}
